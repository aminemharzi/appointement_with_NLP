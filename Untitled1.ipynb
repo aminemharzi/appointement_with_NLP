{
  "cells": [
    {
      "cell_type": "markdown",
      "metadata": {
        "id": "view-in-github",
        "colab_type": "text"
      },
      "source": [
        "<a href=\"https://colab.research.google.com/github/aminemharzi/appointement_with_NLP/blob/main/Untitled1.ipynb\" target=\"_parent\"><img src=\"https://colab.research.google.com/assets/colab-badge.svg\" alt=\"Open In Colab\"/></a>"
      ]
    },
    {
      "cell_type": "code",
      "execution_count": null,
      "metadata": {
        "id": "241160e7"
      },
      "outputs": [],
      "source": [
        "import pandas as pd\n",
        "from nltk.corpus import stopwords\n",
        "from nltk.tokenize import word_tokenize\n",
        "from nltk.stem import WordNetLemmatizer\n",
        "from sklearn.feature_extraction.text import CountVectorizer\n",
        "from sklearn.naive_bayes import MultinomialNB\n",
        "from sklearn.model_selection import train_test_split\n",
        "from sklearn.pipeline import Pipeline\n",
        "from sklearn.metrics import accuracy_score\n",
        "import nltk\n",
        "import os\n",
        "import numpy as np\n",
        "from sklearn.linear_model import LogisticRegression\n",
        "from gensim.models import Word2Vec\n",
        "import string\n"
      ],
      "id": "241160e7"
    },
    {
      "cell_type": "code",
      "execution_count": null,
      "metadata": {
        "id": "08IWoi3oppS_"
      },
      "outputs": [],
      "source": [
        "from google.colab import drive\n",
        "drive.mount(\"/content/gdrive\")"
      ],
      "id": "08IWoi3oppS_"
    },
    {
      "cell_type": "code",
      "execution_count": null,
      "metadata": {
        "id": "OjgLSpclp30Z"
      },
      "outputs": [],
      "source": [
        "\n",
        "path=\"/content/gdrive/MyDrive/\""
      ],
      "id": "OjgLSpclp30Z"
    },
    {
      "cell_type": "code",
      "execution_count": null,
      "metadata": {
        "id": "5e786b4f"
      },
      "outputs": [],
      "source": [
        "# charger les données à partir d'un fichier CSV\n",
        "df = pd.read_excel(path+\"/model/maladies.xlsx\")"
      ],
      "id": "5e786b4f"
    },
    {
      "cell_type": "code",
      "execution_count": null,
      "metadata": {
        "id": "e99057a9"
      },
      "outputs": [],
      "source": [
        "def remove_puc(text):\n",
        "    for pun in string.punctuation:\n",
        "        text=text.replace(pun,\"\")\n",
        "    text=text.lower()\n",
        "    return text"
      ],
      "id": "e99057a9"
    },
    {
      "cell_type": "code",
      "execution_count": null,
      "metadata": {
        "id": "a69a8652"
      },
      "outputs": [],
      "source": [
        "df['Symptomes']=df['Symptomes'].apply(remove_puc)"
      ],
      "id": "a69a8652"
    },
    {
      "cell_type": "code",
      "execution_count": null,
      "metadata": {
        "id": "d0083a49"
      },
      "outputs": [],
      "source": [
        "df['Symptomes']"
      ],
      "id": "d0083a49"
    },
    {
      "cell_type": "code",
      "source": [
        "import nltk\n",
        "nltk.download('stopwords')\n",
        "nltk.download('punkt')\n",
        "nltk.download('wordnet')"
      ],
      "metadata": {
        "id": "slxY59j-WS_Z"
      },
      "id": "slxY59j-WS_Z",
      "execution_count": null,
      "outputs": []
    },
    {
      "cell_type": "code",
      "source": [
        "#  définir les arrêts (stopwords) à supprimer\n",
        "stop_words = set(stopwords.words('french'))\n",
        "\n",
        "# initialiser le lemmatizer\n",
        "lemmatizer = WordNetLemmatizer()\n",
        "\n",
        "# effectuer la tokenisation et la lemmatisation sur les descriptions\n",
        "descriptions = []\n",
        "for d in df['Symptomes']:\n",
        "    tokens = word_tokenize(d.lower())\n",
        "    tokens = [t for t in tokens if t.isalpha()]\n",
        "    tokens = [t for t in tokens if t not in stop_words]\n",
        "    tokens = [lemmatizer.lemmatize(t) for t in tokens]\n",
        "    descriptions.append(' '.join(tokens))\n",
        "\n",
        "# ajouter la colonne des descriptions nettoyées au dataframe\n",
        "df['clean_description'] = descriptions"
      ],
      "metadata": {
        "id": "393zumQtV4F0"
      },
      "id": "393zumQtV4F0",
      "execution_count": null,
      "outputs": []
    },
    {
      "cell_type": "code",
      "execution_count": null,
      "metadata": {
        "id": "277d94dd"
      },
      "outputs": [],
      "source": [
        "X=df['clean_description']\n",
        "y=df['Specialite']"
      ],
      "id": "277d94dd"
    },
    {
      "cell_type": "code",
      "source": [
        "X"
      ],
      "metadata": {
        "id": "f7be-H6kiXzW"
      },
      "id": "f7be-H6kiXzW",
      "execution_count": null,
      "outputs": []
    },
    {
      "cell_type": "code",
      "execution_count": null,
      "metadata": {
        "id": "5537ec12"
      },
      "outputs": [],
      "source": [
        "df_test = pd.read_excel(path+'malades.xlsx')\n",
        "X_test=df_test['Symptomes']\n",
        "y_test=df_test['Specialite']\n",
        "X_test=X_test.apply(remove_puc)"
      ],
      "id": "5537ec12"
    },
    {
      "cell_type": "code",
      "execution_count": null,
      "metadata": {
        "id": "5f5b8183"
      },
      "outputs": [],
      "source": [
        "from sklearn import feature_extraction"
      ],
      "id": "5f5b8183"
    },
    {
      "cell_type": "code",
      "execution_count": null,
      "metadata": {
        "id": "6def2974"
      },
      "outputs": [],
      "source": [
        "vec = feature_extraction.text.TfidfVectorizer(ngram_range=(1,7),analyzer='char')"
      ],
      "id": "6def2974"
    },
    {
      "cell_type": "code",
      "execution_count": null,
      "metadata": {
        "id": "7d8a238c"
      },
      "outputs": [],
      "source": [
        "from sklearn import pipeline\n",
        "from sklearn.neural_network import MLPClassifier\n",
        "from tqdm import tqdm"
      ],
      "id": "7d8a238c"
    },
    {
      "cell_type": "code",
      "execution_count": null,
      "metadata": {
        "id": "bfc62294"
      },
      "outputs": [],
      "source": [
        "model=pipeline.Pipeline([('vec',vec),('clf',MLPClassifier(hidden_layer_sizes=(50), activation='relu', max_iter=100000))])"
      ],
      "id": "bfc62294"
    },
    {
      "cell_type": "code",
      "execution_count": null,
      "metadata": {
        "colab": {
          "base_uri": "https://localhost:8080/"
        },
        "id": "vWorkJZJKHpV",
        "outputId": "22e00f5b-a551-4468-cb8b-f72f1b5b2658"
      },
      "outputs": [
        {
          "output_type": "stream",
          "name": "stderr",
          "text": [
            "Training Progress: 100%|██████████| 10/10 [54:28<00:00, 326.84s/it]\n"
          ]
        }
      ],
      "source": [
        "num_epochs = 10  # Specify the number of training epochs\n",
        "\n",
        "# Start training loop with progress bar\n",
        "for epoch in tqdm(range(num_epochs), desc=\"Training Progress\"):\n",
        "    # Fit the model to the training data for each epoch\n",
        "    model.fit(X, y)"
      ],
      "id": "vWorkJZJKHpV"
    },
    {
      "cell_type": "code",
      "execution_count": null,
      "metadata": {
        "colab": {
          "base_uri": "https://localhost:8080/"
        },
        "id": "e0a742db",
        "outputId": "ebd5f3a0-b1e6-41f2-837b-d89c4c62b42d"
      },
      "outputs": [
        {
          "output_type": "execute_result",
          "data": {
            "text/plain": [
              "132"
            ]
          },
          "metadata": {},
          "execution_count": 95
        }
      ],
      "source": [
        "len(model.classes_)"
      ],
      "id": "e0a742db"
    },
    {
      "cell_type": "code",
      "execution_count": null,
      "metadata": {
        "id": "3fb636e5"
      },
      "outputs": [],
      "source": [
        "predicted_variable=model.predict(X_test)"
      ],
      "id": "3fb636e5"
    },
    {
      "cell_type": "code",
      "execution_count": null,
      "metadata": {
        "id": "5gV67GFgHWBq"
      },
      "outputs": [],
      "source": [
        "prec=model.predict(['''\n",
        "\n",
        "je suis fatigué\n",
        "'''])"
      ],
      "id": "5gV67GFgHWBq"
    },
    {
      "cell_type": "code",
      "execution_count": null,
      "metadata": {
        "id": "1jhMhsv5H2GJ"
      },
      "outputs": [],
      "source": [
        "prec"
      ],
      "id": "1jhMhsv5H2GJ"
    },
    {
      "cell_type": "code",
      "source": [
        "text='''\n",
        "\n",
        "je suis fatigué,\n",
        "'''\n",
        "predicted_speciality = model.predict([text])[0]\n",
        "# Generate predictions or probabilities for each class\n",
        "print(predicted_speciality)\n",
        "probabilities = model.predict_proba([text])\n",
        "# Get the probability values for each class\n",
        "class_probabilities = probabilities[0]\n",
        "class_labels=[]\n",
        "class_probs=[]\n",
        "# Print the probabilities for each class\n",
        "for i, class_prob in enumerate(class_probabilities):\n",
        "    class_label = model.classes_[i]\n",
        "    class_labels.append(class_label)\n",
        "    test=str(class_prob*100).split('.')[0]\n",
        "    class_probs.append(class_prob)\n",
        "proba_df= pd.DataFrame({\n",
        "    'Label':class_labels,\n",
        "    'Proba':class_probs\n",
        "})\n",
        "sorted_df = proba_df.sort_values(by='Proba',ascending=False)\n",
        "sorted_df['Proba'] = (sorted_df['Proba'] * 100).astype(int)\n",
        "print(sorted_df)"
      ],
      "metadata": {
        "id": "WyrZqFcx1vqh"
      },
      "id": "WyrZqFcx1vqh",
      "execution_count": null,
      "outputs": []
    },
    {
      "cell_type": "code",
      "execution_count": null,
      "metadata": {
        "id": "f150d8c2"
      },
      "outputs": [],
      "source": [
        "from sklearn import metrics\n"
      ],
      "id": "f150d8c2"
    },
    {
      "cell_type": "code",
      "execution_count": null,
      "metadata": {
        "id": "28c6eba9"
      },
      "outputs": [],
      "source": [
        "metrics.accuracy_score(y_test,predicted_variable)"
      ],
      "id": "28c6eba9"
    },
    {
      "cell_type": "code",
      "execution_count": null,
      "metadata": {
        "id": "XmaCRLtHJUs_"
      },
      "outputs": [],
      "source": [
        "import joblib"
      ],
      "id": "XmaCRLtHJUs_"
    },
    {
      "cell_type": "code",
      "execution_count": null,
      "metadata": {
        "colab": {
          "base_uri": "https://localhost:8080/"
        },
        "id": "90fa6f37",
        "outputId": "18a8fcc3-fb24-46c5-ce44-e54e462158f6"
      },
      "outputs": [
        {
          "output_type": "execute_result",
          "data": {
            "text/plain": [
              "['/content/gdrive/MyDrive/pipeline.pkl']"
            ]
          },
          "metadata": {},
          "execution_count": 79
        }
      ],
      "source": [
        "joblib.dump(model, path+'pipeline.pkl')"
      ],
      "id": "90fa6f37"
    },
    {
      "cell_type": "markdown",
      "source": [
        "Another metod"
      ],
      "metadata": {
        "id": "lxQgj2J9ODlV"
      },
      "id": "lxQgj2J9ODlV"
    },
    {
      "cell_type": "code",
      "source": [
        "vec = feature_extraction.text.TfidfVectorizer(ngram_range=(1,7),analyzer='char')"
      ],
      "metadata": {
        "id": "RKn8udZDO_dB"
      },
      "id": "RKn8udZDO_dB",
      "execution_count": null,
      "outputs": []
    },
    {
      "cell_type": "code",
      "execution_count": null,
      "metadata": {
        "id": "Gc0PFzLfJWUd"
      },
      "outputs": [],
      "source": [
        "model2=pipeline.Pipeline([('vec',vec),('clf', MLPClassifier(hidden_layer_sizes=(1000), activation='relu', max_iter=100000))])"
      ],
      "id": "Gc0PFzLfJWUd"
    },
    {
      "cell_type": "code",
      "source": [
        "model2.fit(X,y)"
      ],
      "metadata": {
        "colab": {
          "base_uri": "https://localhost:8080/",
          "height": 126
        },
        "id": "JgTLOcwWOZrd",
        "outputId": "8a3d2e45-3c03-4a68-db2e-b73f84395d1a"
      },
      "id": "JgTLOcwWOZrd",
      "execution_count": null,
      "outputs": [
        {
          "output_type": "execute_result",
          "data": {
            "text/plain": [
              "Pipeline(steps=[('vec', TfidfVectorizer(analyzer='char', ngram_range=(1, 7))),\n",
              "                ('clf',\n",
              "                 MLPClassifier(hidden_layer_sizes=1000, max_iter=100000))])"
            ],
            "text/html": [
              "<style>#sk-container-id-1 {color: black;background-color: white;}#sk-container-id-1 pre{padding: 0;}#sk-container-id-1 div.sk-toggleable {background-color: white;}#sk-container-id-1 label.sk-toggleable__label {cursor: pointer;display: block;width: 100%;margin-bottom: 0;padding: 0.3em;box-sizing: border-box;text-align: center;}#sk-container-id-1 label.sk-toggleable__label-arrow:before {content: \"▸\";float: left;margin-right: 0.25em;color: #696969;}#sk-container-id-1 label.sk-toggleable__label-arrow:hover:before {color: black;}#sk-container-id-1 div.sk-estimator:hover label.sk-toggleable__label-arrow:before {color: black;}#sk-container-id-1 div.sk-toggleable__content {max-height: 0;max-width: 0;overflow: hidden;text-align: left;background-color: #f0f8ff;}#sk-container-id-1 div.sk-toggleable__content pre {margin: 0.2em;color: black;border-radius: 0.25em;background-color: #f0f8ff;}#sk-container-id-1 input.sk-toggleable__control:checked~div.sk-toggleable__content {max-height: 200px;max-width: 100%;overflow: auto;}#sk-container-id-1 input.sk-toggleable__control:checked~label.sk-toggleable__label-arrow:before {content: \"▾\";}#sk-container-id-1 div.sk-estimator input.sk-toggleable__control:checked~label.sk-toggleable__label {background-color: #d4ebff;}#sk-container-id-1 div.sk-label input.sk-toggleable__control:checked~label.sk-toggleable__label {background-color: #d4ebff;}#sk-container-id-1 input.sk-hidden--visually {border: 0;clip: rect(1px 1px 1px 1px);clip: rect(1px, 1px, 1px, 1px);height: 1px;margin: -1px;overflow: hidden;padding: 0;position: absolute;width: 1px;}#sk-container-id-1 div.sk-estimator {font-family: monospace;background-color: #f0f8ff;border: 1px dotted black;border-radius: 0.25em;box-sizing: border-box;margin-bottom: 0.5em;}#sk-container-id-1 div.sk-estimator:hover {background-color: #d4ebff;}#sk-container-id-1 div.sk-parallel-item::after {content: \"\";width: 100%;border-bottom: 1px solid gray;flex-grow: 1;}#sk-container-id-1 div.sk-label:hover label.sk-toggleable__label {background-color: #d4ebff;}#sk-container-id-1 div.sk-serial::before {content: \"\";position: absolute;border-left: 1px solid gray;box-sizing: border-box;top: 0;bottom: 0;left: 50%;z-index: 0;}#sk-container-id-1 div.sk-serial {display: flex;flex-direction: column;align-items: center;background-color: white;padding-right: 0.2em;padding-left: 0.2em;position: relative;}#sk-container-id-1 div.sk-item {position: relative;z-index: 1;}#sk-container-id-1 div.sk-parallel {display: flex;align-items: stretch;justify-content: center;background-color: white;position: relative;}#sk-container-id-1 div.sk-item::before, #sk-container-id-1 div.sk-parallel-item::before {content: \"\";position: absolute;border-left: 1px solid gray;box-sizing: border-box;top: 0;bottom: 0;left: 50%;z-index: -1;}#sk-container-id-1 div.sk-parallel-item {display: flex;flex-direction: column;z-index: 1;position: relative;background-color: white;}#sk-container-id-1 div.sk-parallel-item:first-child::after {align-self: flex-end;width: 50%;}#sk-container-id-1 div.sk-parallel-item:last-child::after {align-self: flex-start;width: 50%;}#sk-container-id-1 div.sk-parallel-item:only-child::after {width: 0;}#sk-container-id-1 div.sk-dashed-wrapped {border: 1px dashed gray;margin: 0 0.4em 0.5em 0.4em;box-sizing: border-box;padding-bottom: 0.4em;background-color: white;}#sk-container-id-1 div.sk-label label {font-family: monospace;font-weight: bold;display: inline-block;line-height: 1.2em;}#sk-container-id-1 div.sk-label-container {text-align: center;}#sk-container-id-1 div.sk-container {/* jupyter's `normalize.less` sets `[hidden] { display: none; }` but bootstrap.min.css set `[hidden] { display: none !important; }` so we also need the `!important` here to be able to override the default hidden behavior on the sphinx rendered scikit-learn.org. See: https://github.com/scikit-learn/scikit-learn/issues/21755 */display: inline-block !important;position: relative;}#sk-container-id-1 div.sk-text-repr-fallback {display: none;}</style><div id=\"sk-container-id-1\" class=\"sk-top-container\"><div class=\"sk-text-repr-fallback\"><pre>Pipeline(steps=[(&#x27;vec&#x27;, TfidfVectorizer(analyzer=&#x27;char&#x27;, ngram_range=(1, 7))),\n",
              "                (&#x27;clf&#x27;,\n",
              "                 MLPClassifier(hidden_layer_sizes=1000, max_iter=100000))])</pre><b>In a Jupyter environment, please rerun this cell to show the HTML representation or trust the notebook. <br />On GitHub, the HTML representation is unable to render, please try loading this page with nbviewer.org.</b></div><div class=\"sk-container\" hidden><div class=\"sk-item sk-dashed-wrapped\"><div class=\"sk-label-container\"><div class=\"sk-label sk-toggleable\"><input class=\"sk-toggleable__control sk-hidden--visually\" id=\"sk-estimator-id-1\" type=\"checkbox\" ><label for=\"sk-estimator-id-1\" class=\"sk-toggleable__label sk-toggleable__label-arrow\">Pipeline</label><div class=\"sk-toggleable__content\"><pre>Pipeline(steps=[(&#x27;vec&#x27;, TfidfVectorizer(analyzer=&#x27;char&#x27;, ngram_range=(1, 7))),\n",
              "                (&#x27;clf&#x27;,\n",
              "                 MLPClassifier(hidden_layer_sizes=1000, max_iter=100000))])</pre></div></div></div><div class=\"sk-serial\"><div class=\"sk-item\"><div class=\"sk-estimator sk-toggleable\"><input class=\"sk-toggleable__control sk-hidden--visually\" id=\"sk-estimator-id-2\" type=\"checkbox\" ><label for=\"sk-estimator-id-2\" class=\"sk-toggleable__label sk-toggleable__label-arrow\">TfidfVectorizer</label><div class=\"sk-toggleable__content\"><pre>TfidfVectorizer(analyzer=&#x27;char&#x27;, ngram_range=(1, 7))</pre></div></div></div><div class=\"sk-item\"><div class=\"sk-estimator sk-toggleable\"><input class=\"sk-toggleable__control sk-hidden--visually\" id=\"sk-estimator-id-3\" type=\"checkbox\" ><label for=\"sk-estimator-id-3\" class=\"sk-toggleable__label sk-toggleable__label-arrow\">MLPClassifier</label><div class=\"sk-toggleable__content\"><pre>MLPClassifier(hidden_layer_sizes=1000, max_iter=100000)</pre></div></div></div></div></div></div></div>"
            ]
          },
          "metadata": {},
          "execution_count": 31
        }
      ]
    },
    {
      "cell_type": "code",
      "source": [
        "predicted_variable2=model2.predict(X_test)"
      ],
      "metadata": {
        "id": "JbKnQbYIOduC"
      },
      "id": "JbKnQbYIOduC",
      "execution_count": null,
      "outputs": []
    },
    {
      "cell_type": "code",
      "source": [
        "metrics.accuracy_score(y_test,predicted_variable2)"
      ],
      "metadata": {
        "colab": {
          "base_uri": "https://localhost:8080/"
        },
        "id": "P3B92n6WOpXN",
        "outputId": "42e970da-ba25-4029-eb7e-4e86bf50c16b"
      },
      "id": "P3B92n6WOpXN",
      "execution_count": null,
      "outputs": [
        {
          "output_type": "execute_result",
          "data": {
            "text/plain": [
              "0.5461538461538461"
            ]
          },
          "metadata": {},
          "execution_count": 33
        }
      ]
    },
    {
      "cell_type": "code",
      "source": [],
      "metadata": {
        "id": "k0n8B9TQOr25"
      },
      "id": "k0n8B9TQOr25",
      "execution_count": null,
      "outputs": []
    }
  ],
  "metadata": {
    "colab": {
      "provenance": [],
      "include_colab_link": true
    },
    "kernelspec": {
      "display_name": "Python 3 (ipykernel)",
      "language": "python",
      "name": "python3"
    },
    "language_info": {
      "codemirror_mode": {
        "name": "ipython",
        "version": 3
      },
      "file_extension": ".py",
      "mimetype": "text/x-python",
      "name": "python",
      "nbconvert_exporter": "python",
      "pygments_lexer": "ipython3",
      "version": "3.10.9"
    }
  },
  "nbformat": 4,
  "nbformat_minor": 5
}